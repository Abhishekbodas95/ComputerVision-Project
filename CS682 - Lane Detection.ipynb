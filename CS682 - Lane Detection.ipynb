{
 "cells": [
  {
   "cell_type": "markdown",
   "metadata": {},
   "source": [
    "# CS682 Final Project: Lane Detection using Computer Vision\n",
    "\n",
    "## Team:\n",
    "Abhishek Bodas - G01160204<br>\n",
    "Aditya Indoori - G01129724<br>\n",
    "Gaurav Bahl - G01057667<br>\n",
    "Prashant Sahu - G01149803<br>\n",
    "Pushkal Reddy - G01166539<br>"
   ]
  },
  {
   "cell_type": "markdown",
   "metadata": {},
   "source": [
    "# Importing Libraries:"
   ]
  },
  {
   "cell_type": "code",
   "execution_count": 768,
   "metadata": {},
   "outputs": [],
   "source": [
    "import numpy as np\n",
    "import cv2\n",
    "import os\n",
    "import time\n",
    "from matplotlib import pyplot as plt\n",
    "from scipy.stats import norm, gamma, uniform \n",
    "import math  \n",
    "import concurrent.futures\n",
    "\n",
    "line_K = 5\n",
    "delta = 5\n",
    "numberOfParticles = 500"
   ]
  },
  {
   "cell_type": "markdown",
   "metadata": {},
   "source": [
    "### Display images"
   ]
  },
  {
   "cell_type": "code",
   "execution_count": 769,
   "metadata": {},
   "outputs": [],
   "source": [
    "def display_image(title, image):\n",
    "    cv2.imshow(title, image) \n",
    "    cv2.waitKey(1)\n",
    "    cv2.destroyAllWindows()"
   ]
  },
  {
   "cell_type": "markdown",
   "metadata": {},
   "source": [
    "### Plot Images (Using matplotlib)"
   ]
  },
  {
   "cell_type": "code",
   "execution_count": 770,
   "metadata": {},
   "outputs": [],
   "source": [
    "def plot_image(title, image):\n",
    "    plt.imshow(image, cmap=\"gray\")\n",
    "    plt.title(title)\n",
    "    plt.show()"
   ]
  },
  {
   "cell_type": "markdown",
   "metadata": {},
   "source": [
    "### Reading Raw Data"
   ]
  },
  {
   "cell_type": "code",
   "execution_count": 771,
   "metadata": {},
   "outputs": [],
   "source": [
    "def read_data():\n",
    "    start_read_images_time = time.time()\n",
    "    folder_root = './data_clr/data/'\n",
    "    listOfImgs = []\n",
    "    list_of_img_names = []\n",
    "    for dirname, _, filenames in os.walk(folder_root):\n",
    "        list_of_img_names.append(filenames)\n",
    "        list_of_img_names = sorted(list_of_img_names[0])\n",
    "        for name in list_of_img_names:\n",
    "            if(\"png\" in name):\n",
    "                img = cv2.imread(folder_root+'/'+name)\n",
    "                listOfImgs.append(img)\n",
    "\n",
    "    end_read_images_time = time.time()\n",
    "    time_taken_read_imgs = int(end_read_images_time-start_read_images_time)\n",
    "    print(\"Number of images read: \", len(listOfImgs))\n",
    "    print(\"Time taken to read images: \", time_taken_read_imgs,\"seconds\")\n",
    "    print(\"Shape of each image: \",listOfImgs[0].shape)\n",
    "    \n",
    "    return listOfImgs"
   ]
  },
  {
   "cell_type": "markdown",
   "metadata": {},
   "source": [
    "### Inverse Perspective Transform:\n",
    "##### Picked 4 points from the image around the actual lane and converted it to see it as bird's eye view"
   ]
  },
  {
   "cell_type": "code",
   "execution_count": 772,
   "metadata": {},
   "outputs": [],
   "source": [
    "def inverse_perspective_transform(img):\n",
    "    dst_size = (img.shape[1],img.shape[0])\n",
    "    src=np.float32([(270,360),(890,360),(660,210),(520,210)])\n",
    "    dst=np.float32([(10,360), (1230, 360), (1230,10), (10,10)])\n",
    "    Matrix = cv2.getPerspectiveTransform(src, dst)\n",
    "    warped = cv2.warpPerspective(img, Matrix, dst_size)\n",
    "    \n",
    "    # Alternate to cv2.getPerspectiveTransform() is cv2.findHomography()\n",
    "#     Matrix2 = cv2.findHomography(src, dst)\n",
    "#     warped2 = cv2.warpPerspective(img, Matrix2[0], dst_size)\n",
    "    \n",
    "#     plot_image(\"Original Image\", img)\n",
    "#     plot_image(\"perspectiveTransform: \", warped)\n",
    "    \n",
    "    return warped"
   ]
  },
  {
   "cell_type": "markdown",
   "metadata": {},
   "source": [
    "### Perspective Transform:\n",
    "##### Converted back from the bird's eye view to actual image shape"
   ]
  },
  {
   "cell_type": "code",
   "execution_count": 773,
   "metadata": {},
   "outputs": [],
   "source": [
    "def perspective_transform(img):\n",
    "    dst_size = (img.shape[1],img.shape[0])\n",
    "    dst=np.float32([(270,360),(890,360),(660,210),(520,210)])\n",
    "    src=np.float32([(10,360), (1230, 360), (1230,10), (10,10)])\n",
    "    Matrix = cv2.getPerspectiveTransform(src, dst)\n",
    "    warped = cv2.warpPerspective(img, Matrix, dst_size)\n",
    "    \n",
    "#     plot_image(\"Detected Lane\", img)\n",
    "#     plot_image(\"Inverting Back to Original\", warped)\n",
    "    \n",
    "    return warped"
   ]
  },
  {
   "cell_type": "markdown",
   "metadata": {},
   "source": [
    "### Merging two images:\n",
    "##### Merging original image with our result image that has two polylines showing lanes detected"
   ]
  },
  {
   "cell_type": "code",
   "execution_count": 774,
   "metadata": {},
   "outputs": [],
   "source": [
    "def merge_images(image1, image2):\n",
    "    alpha = 0.7\n",
    "    beta = (1.0 - alpha)\n",
    "    dst = cv2.addWeighted(image1, alpha, image2, beta, 0.0)\n",
    "    \n",
    "#     plot_image(\"Final Result\", dst)    \n",
    "    display_image(\"Result\", dst)\n",
    "    \n",
    "    return dst"
   ]
  },
  {
   "cell_type": "markdown",
   "metadata": {},
   "source": [
    "## Edge Detection and Distance Transform:\n",
    "##### Detecting the edge using sobel in y direction. Then calculating the distance transform on that edge detected image"
   ]
  },
  {
   "cell_type": "code",
   "execution_count": 775,
   "metadata": {},
   "outputs": [],
   "source": [
    "def edge_detect(warped):\n",
    "    grayImg_warp = cv2.cvtColor(warped, cv2.COLOR_BGR2GRAY)\n",
    "    thres_warp = cv2.threshold(grayImg_warp, 215, 255,cv2.THRESH_BINARY)[1]\n",
    "    gauss_warp = cv2.GaussianBlur(thres_warp,(11,11),0)\n",
    "    sobel_warp = cv2.Sobel(gauss_warp,cv2.CV_8U,1,0,ksize=3)\n",
    "\n",
    "    # Calculating distance transform\n",
    "    dst_tfm = cv2.distanceTransform(255-sobel_warp, cv2.DIST_L2, 5)\n",
    "    \n",
    "#     plot_image(\"Edge Detection\", sobel_warp)\n",
    "#     plot_image(\"Distance Transform\", dst_tfm)\n",
    "    \n",
    "    return dst_tfm"
   ]
  },
  {
   "cell_type": "markdown",
   "metadata": {},
   "source": [
    "# Partcle Filtering:"
   ]
  },
  {
   "cell_type": "markdown",
   "metadata": {},
   "source": [
    "### Calculating actual left and right edge points from distance transform matrix: "
   ]
  },
  {
   "cell_type": "code",
   "execution_count": 776,
   "metadata": {},
   "outputs": [],
   "source": [
    "def get_actual_LR_points(arr_bt_row):\n",
    "    lr = []\n",
    "    left,right = 0,0\n",
    "    mid_length = len(arr_bt_row)/2\n",
    "    \n",
    "    for i in range(1,len(arr_bt_row)-1):\n",
    "        prev_pix_in = i-1\n",
    "        next_pix_in = i+1\n",
    "        next_diff = np.rint(arr_bt_row[i] - arr_bt_row[next_pix_in])\n",
    "        prev_diff = np.rint(arr_bt_row[i] - arr_bt_row[prev_pix_in])\n",
    "        if(arr_bt_row[i]<=10 and next_diff<=0 and prev_diff<=0):\n",
    "            lr.append(i)\n",
    "\n",
    "    central_number = 0 if len(list(filter(lambda k: k > mid_length, lr)))==0 else list(filter(lambda k: k > mid_length, lr))[0]\n",
    "    central_index = lr.index(central_number) if central_number != 0 else len(lr)-1\n",
    "    \n",
    "    if central_index>0:\n",
    "        left = sum(lr[:central_index])/len(lr[:central_index])\n",
    "    if central_index!=len(lr)-1:\n",
    "        right = sum(lr[central_index:])/len(lr[central_index:])\n",
    "\n",
    "    return left,right"
   ]
  },
  {
   "cell_type": "markdown",
   "metadata": {},
   "source": [
    "### Calculating the values of beta and gamma between actual lane points:"
   ]
  },
  {
   "cell_type": "code",
   "execution_count": 777,
   "metadata": {},
   "outputs": [],
   "source": [
    "def get_beta(l, prev_particle):\n",
    "    return math.atan((l-prev_particle[0])/delta)\n",
    "\n",
    "def get_gamma(r, prev_particle):\n",
    "    return math.atan((r-prev_particle[1])/delta)"
   ]
  },
  {
   "cell_type": "markdown",
   "metadata": {},
   "source": [
    "### Generating random particles"
   ]
  },
  {
   "cell_type": "code",
   "execution_count": 778,
   "metadata": {},
   "outputs": [],
   "source": [
    "def generate_random_particles(row_length, selected_particles):\n",
    "    predicted_particles = np.array([])\n",
    "    if(len(selected_particles) == 0):\n",
    "        L = uniform(loc=0, scale=row_length/2).rvs(numberOfParticles) \n",
    "        R = uniform(loc=row_length/2+1, scale=row_length/2-1).rvs(numberOfParticles)\n",
    "        B = np.zeros(numberOfParticles,dtype='uint8')\n",
    "        G = np.zeros(numberOfParticles,dtype='uint8')\n",
    "        predicted_particles = np.stack((L,R,B,G), axis=-1)\n",
    "        \n",
    "#         print(\"normal: \",predicted_particles)\n",
    "#         predicted_particles = np.array(np.meshgrid(L,R,B,G)).T.reshape(-1,4)\n",
    "#         print(\"new: \",predicted_particles)\n",
    "\n",
    "    else:            \n",
    "        num = int(numberOfParticles/len(selected_particles))\n",
    "        for particle in selected_particles:\n",
    "            L = uniform(loc=particle[0]-20, scale=40).rvs(num)\n",
    "            R = uniform(loc=particle[1]-20, scale=40).rvs(num)\n",
    "            B = uniform(loc=particle[2]-0.5, scale=1).rvs(num)\n",
    "            G = uniform(loc=particle[3]-0.5, scale=1).rvs(num)\n",
    "            \n",
    "            if len(predicted_particles) == 0:\n",
    "                predicted_particles = np.stack((L,R,B,G), axis=-1)\n",
    "                \n",
    "            else:\n",
    "                predicted_particles = np.vstack((predicted_particles, np.stack((L,R,B,G), axis=-1)))\n",
    "\n",
    "    return predicted_particles"
   ]
  },
  {
   "cell_type": "markdown",
   "metadata": {},
   "source": [
    "### Calculating Gaussian weight (Not using anymore)"
   ]
  },
  {
   "cell_type": "code",
   "execution_count": 779,
   "metadata": {},
   "outputs": [],
   "source": [
    "def gaussianWeight(S, mean, std):\n",
    "#     return (1./(std*math.sqrt(2*math.pi)))*np.exp((-1/(2*(std)))*((S - mean)**2))\n",
    "    \n",
    "    val = np.divide(((S - mean)*(S-mean)),2*(std*std))\n",
    "    print(\"val: \",val)\n",
    "\n",
    "    left = np.divide(1,(std*math.sqrt(2*math.pi)))\n",
    "    bracket = np.multiply(-1,val)\n",
    "    right = math.exp(bracket)\n",
    "    \n",
    "    print(\"left: \",left, \"\\tright: \",right, \"bracket: \",bracket)\n",
    "    \n",
    "    return left * right"
   ]
  },
  {
   "cell_type": "markdown",
   "metadata": {},
   "source": [
    "## Get weights using Mean Squared Error (Currently using)"
   ]
  },
  {
   "cell_type": "code",
   "execution_count": 780,
   "metadata": {},
   "outputs": [],
   "source": [
    "def get_weights_MSE(particles, prev_particle):\n",
    "    weights = np.array([])\n",
    "    for particle in particles:\n",
    "        MSE = np.mean(np.square(np.subtract(prev_particle,particle)))\n",
    "        weights = np.append(weights,1/MSE)\n",
    "    normalized_weights = weights/np.amax(weights)\n",
    "    \n",
    "    return normalized_weights"
   ]
  },
  {
   "cell_type": "markdown",
   "metadata": {},
   "source": [
    "### Get weights from slides (Not working: we are using MSE instead)"
   ]
  },
  {
   "cell_type": "code",
   "execution_count": 781,
   "metadata": {},
   "outputs": [],
   "source": [
    "def get_weights(particles, dst_tfm, y):\n",
    "    weights = []\n",
    "    for particle in particles:\n",
    "        dst_L = []\n",
    "        dst_R = []\n",
    "        dst_C = []\n",
    "        for j in range(-line_K,line_K+1):\n",
    "            x_L = int(particle[0] + j*math.sin(particle[2]))\n",
    "            y_L = int(y + j*math.cos(particle[2]))\n",
    "            x_R = int(particle[1] + j*math.sin(particle[3]))\n",
    "            y_R = int(y + j*math.cos(particle[3]))\n",
    "            dst_L.append(dst_tfm[y_L,x_L])\n",
    "            dst_R.append(dst_tfm[y_R,x_R])\n",
    "        \n",
    "        print(\"dst_L: \",dst_L,\"\\ndst_R\",dst_R)\n",
    "        \n",
    "        for j in range(-line_K,line_K+1):\n",
    "            x_C = int(np.mean([particle[0],particle[1]]) + j*math.sin(np.mean([particle[2],particle[3]])))\n",
    "            y_C = int(y + j*math.cos(np.mean([particle[2],particle[3]])))\n",
    "            dst_C.append(dst_tfm[y_C,x_C])\n",
    "    \n",
    "        print(\"dst_C: \",dst_C)\n",
    "              \n",
    "        S_L = np.sum(np.abs(dst_L))\n",
    "        S_R = np.sum(np.abs(dst_R))\n",
    "        S_C =  abs(1/dst_C[line_K])\n",
    "        mean_L = np.mean(dst_L)\n",
    "        mean_R = np.mean(dst_R)\n",
    "        mean_C = np.mean(dst_C)\n",
    "        std_L = np.std(dst_L)\n",
    "        std_R = np.std(dst_R)\n",
    "        std_C = np.std(dst_C)\n",
    "        \n",
    "        print(\"S_R:\",S_R,\"\\tmean_R\",mean_R,\"\\tstd_R: \",std_R)\n",
    "        g_L = gaussianWeight(S_L,mean_L,std_L)\n",
    "        g_R = gaussianWeight(S_R,mean_R,std_R)\n",
    "        g_C = gaussianWeight(S_C,mean_C,std_C)\n",
    "        \n",
    "        print(\"g_R:\",g_R)\n",
    "        \n",
    "        w_dist = g_L * g_R\n",
    "        w_center = g_C\n",
    "        w_total = w_dist*w_center\n",
    "        weights.append(w_total)\n",
    "        \n",
    "        print(\"weight inside: \",weights)\n",
    "        break\n",
    "        \n",
    "    normalized_weights = weights/np.sum(weights)\n",
    "    return normalized_weights"
   ]
  },
  {
   "cell_type": "markdown",
   "metadata": {},
   "source": [
    "### Calculating the winning particles: "
   ]
  },
  {
   "cell_type": "code",
   "execution_count": 782,
   "metadata": {},
   "outputs": [],
   "source": [
    "def get_winning_particles(weights, particles):\n",
    "    \n",
    "    weights, particles = zip(*sorted(zip(weights, np.array(particles))))\n",
    "    \n",
    "    return np.array(particles)[-5:]"
   ]
  },
  {
   "cell_type": "markdown",
   "metadata": {},
   "source": [
    "## Particle filter main function. It returns winning particles for the given row and image"
   ]
  },
  {
   "cell_type": "code",
   "execution_count": 783,
   "metadata": {},
   "outputs": [],
   "source": [
    "def particle_filter(dst_tfm,row, prev_particle, selected_particles):\n",
    "    start_time = time.time()\n",
    "    y = row\n",
    "    row_data = dst_tfm[y,:]\n",
    "    \n",
    "    # Calculating the actual left and right lane points using distance transform. These will be used to compare with our predicted points.\n",
    "    l,r = get_actual_LR_points(dst_tfm[y,:])\n",
    "    \n",
    "    # If we can't find left or right point we will set the points based on previous row actual particle.\n",
    "    if l == 0:\n",
    "        if len(prev_particle)!=0:\n",
    "            l = prev_particle[0]\n",
    "            b = prev_particle[2]\n",
    "        else:\n",
    "            l=200\n",
    "    if r == 0:\n",
    "        if len(prev_particle)!=0:\n",
    "            r = prev_particle[1]\n",
    "            g = prev_particle[3]\n",
    "#         else:\n",
    "#             r=1100\n",
    "    \n",
    "    # Initializing the beta and gamma as 0 for first row. For later rows it will calculate the angle based on the new actual point and the previous actual point.\n",
    "    if(row == dst_tfm.shape[0]-1):\n",
    "        b = 0\n",
    "        g = 0\n",
    "    else:\n",
    "        b = get_beta(l, prev_particle)\n",
    "        if abs(b)>0.2:\n",
    "            b=0\n",
    "        g = get_gamma(r, prev_particle)\n",
    "        if abs(g)>0.2:\n",
    "            g=0\n",
    "    \n",
    "    # initializing the actual particle for this row\n",
    "    prev_particle = np.array([l,r,b,g])\n",
    "    \n",
    "    before_particle = time.time()\n",
    "    # generating random particles for this row\n",
    "    particles = generate_random_particles(len(row_data), selected_particles) #IF BLANK\n",
    "    after_particle = time.time()\n",
    "    \n",
    "#     ###Depreciated\n",
    "#     weights = get_weights(particles, dst_tfm, y)\n",
    "    \n",
    "    # Calculating weights comparing the predicted particles with our actual particle for this row\n",
    "    weights = get_weights_MSE(particles, prev_particle)\n",
    "    after_weight = time.time()\n",
    "    \n",
    "    # Selecting the winning particles based on the weights\n",
    "    selected_particles = get_winning_particles(weights, particles)\n",
    "    after_selection = time.time()\n",
    "    \n",
    "#     print(\"particle calculation: \",after_particle-before_particle)\n",
    "#     print(\"weights calculation: \",after_weight-after_particle)\n",
    "#     print(\"selection calculation: \",after_selection-after_weight)\n",
    "#     print(\"Total time taken for this row: \",after_selection - start_time)\n",
    "    \n",
    "#     print(\"selected_particles: \",selected_particles)\n",
    "    return prev_particle, selected_particles"
   ]
  },
  {
   "cell_type": "markdown",
   "metadata": {},
   "source": [
    "## Shadow Removal : Future Work"
   ]
  },
  {
   "cell_type": "code",
   "execution_count": 784,
   "metadata": {},
   "outputs": [],
   "source": [
    "def remove_shadow(image):\n",
    "    return"
   ]
  },
  {
   "cell_type": "markdown",
   "metadata": {},
   "source": [
    "## Calculating and plotting the detected lane for the given image"
   ]
  },
  {
   "cell_type": "code",
   "execution_count": 785,
   "metadata": {},
   "outputs": [],
   "source": [
    "def image_calculations(image, idx, prev_particle, selected_particles):\n",
    "    start_time = time.time()\n",
    "    # Inverting the perspective to bird's eye view\n",
    "    warped = inverse_perspective_transform(image)\n",
    "    dst_tfm = edge_detect(warped)\n",
    "    \n",
    "    # Image to store results for each frame\n",
    "    test_image2 = np.zeros((dst_tfm.shape[0], dst_tfm.shape[1]), dtype = 'uint8')\n",
    "\n",
    "    left_line_points = np.array([])\n",
    "    right_line_points = np.array([])\n",
    "\n",
    "    # starting the calculation from last row\n",
    "    starting_row = dst_tfm.shape[0]-1\n",
    "        \n",
    "    \n",
    "    # Calculating the particles for each row and storing the points to plot for left lane and right lane\n",
    "    for row in range(starting_row,0,-delta):\n",
    "        prev_particle, selected_particles = particle_filter(dst_tfm, row, prev_particle, selected_particles);\n",
    "        \n",
    "        # calculating the mean of the selected (winning) particles and setting left and right lane points\n",
    "        mean_selected_particle = np.mean(selected_particles, axis=0)\n",
    "        \n",
    "        #setting left lane points\n",
    "        if(int(mean_selected_particle[0])< dst_tfm.shape[1] and int(mean_selected_particle[0]) > 0):\n",
    "            test_image2[row, int(mean_selected_particle[0])] = 255\n",
    "            if len(left_line_points) == 0:\n",
    "                left_line_points = np.array([int(mean_selected_particle[0]), row])\n",
    "            else:\n",
    "                left_line_points = np.vstack((left_line_points,np.array([int(mean_selected_particle[0]), row])))\n",
    "        \n",
    "        #setting right lane points\n",
    "        if(int(mean_selected_particle[1]) < dst_tfm.shape[1] and int(mean_selected_particle[1]) > 0):\n",
    "            test_image2[row, int(mean_selected_particle[1])] = 255\n",
    "            if len(right_line_points) == 0:\n",
    "                right_line_points = np.array([int(mean_selected_particle[1]), row])\n",
    "            else:\n",
    "                right_line_points = np.vstack((right_line_points,np.array([int(mean_selected_particle[1]), row])))\n",
    "            \n",
    "    \n",
    "    # Changing the result image from grayscale to RGB to show detected lanes with different colors\n",
    "    test_image2 = cv2.cvtColor(test_image2,cv2.COLOR_GRAY2RGB)\n",
    "    \n",
    "    # Plotting the lanes on the points stored in left and right array\n",
    "    cv2.polylines(test_image2,[left_line_points],False,(0,255,255),35)\n",
    "    cv2.polylines(test_image2,[right_line_points],False,(255,255,0),35)\n",
    "        \n",
    "    # Inverting the perspective back and merging with original image\n",
    "    inverted = perspective_transform(test_image2)\n",
    "    result = merge_images(image, inverted)\n",
    "    \n",
    "    end_time = time.time()\n",
    "    print(\"Time taken for this image: \",end_time - start_time)\n",
    "    \n",
    "    return result,prev_particle,selected_particles"
   ]
  },
  {
   "cell_type": "markdown",
   "metadata": {},
   "source": [
    "## Main function"
   ]
  },
  {
   "cell_type": "code",
   "execution_count": 786,
   "metadata": {},
   "outputs": [],
   "source": [
    "def main():\n",
    "    # Reading the images\n",
    "    listOfImgs = read_data()\n",
    "    start_time = time.time()\n",
    "    \n",
    "    # declaring size for the frames in the video for demo\n",
    "    size = (listOfImgs[0].shape[1],listOfImgs[0].shape[0])\n",
    "    \n",
    "    # Initializing these here so that they can be carry forwarded to new frames with previous results\n",
    "    prev_particle = np.array([])\n",
    "    selected_particles = np.array([])\n",
    "    \n",
    "    # video writer for demo\n",
    "    out = cv2.VideoWriter('project.avi',cv2.VideoWriter_fourcc(*'DIVX'), 5, size)\n",
    "    \n",
    "    # Calculating for each image in the given set\n",
    "    for idx,image in enumerate(listOfImgs[:]):\n",
    "        print(\"\\nCalculating for image: \",idx+1)\n",
    "        result,prev_particle,selected_particles = image_calculations(image,idx,prev_particle,selected_particles)\n",
    "        out.write(result)\n",
    "    \n",
    "    # video release\n",
    "    out.release()\n",
    "    end_time = time.time()\n",
    "    print(\"\\nTotal time taken for \",len(listOfImgs),\" images: \",end_time - start_time)\n",
    "    return"
   ]
  },
  {
   "cell_type": "code",
   "execution_count": 787,
   "metadata": {
    "scrolled": false
   },
   "outputs": [
    {
     "name": "stdout",
     "output_type": "stream",
     "text": [
      "Number of images read:  297\n",
      "Time taken to read images:  4 seconds\n",
      "Shape of each image:  (375, 1242, 3)\n",
      "\n",
      "Calculating for image:  1\n",
      "Time taken for this image:  2.6090970039367676\n",
      "\n",
      "Calculating for image:  2\n",
      "Time taken for this image:  2.106325149536133\n",
      "\n",
      "Calculating for image:  3\n",
      "Time taken for this image:  2.3786590099334717\n",
      "\n",
      "Calculating for image:  4\n",
      "Time taken for this image:  1.9311811923980713\n",
      "\n",
      "Calculating for image:  5\n",
      "Time taken for this image:  2.037968158721924\n",
      "\n",
      "Calculating for image:  6\n",
      "Time taken for this image:  1.9518051147460938\n",
      "\n",
      "Calculating for image:  7\n",
      "Time taken for this image:  1.9203100204467773\n",
      "\n",
      "Calculating for image:  8\n",
      "Time taken for this image:  2.5588579177856445\n",
      "\n",
      "Calculating for image:  9\n",
      "Time taken for this image:  2.273467779159546\n",
      "\n",
      "Calculating for image:  10\n",
      "Time taken for this image:  2.069309949874878\n",
      "\n",
      "Calculating for image:  11\n",
      "Time taken for this image:  2.3276150226593018\n",
      "\n",
      "Calculating for image:  12\n",
      "Time taken for this image:  2.80436110496521\n",
      "\n",
      "Calculating for image:  13\n"
     ]
    },
    {
     "ename": "KeyboardInterrupt",
     "evalue": "",
     "output_type": "error",
     "traceback": [
      "\u001b[0;31m---------------------------------------------------------------------------\u001b[0m",
      "\u001b[0;31mKeyboardInterrupt\u001b[0m                         Traceback (most recent call last)",
      "\u001b[0;32m<ipython-input-787-263240bbee7e>\u001b[0m in \u001b[0;36m<module>\u001b[0;34m\u001b[0m\n\u001b[0;32m----> 1\u001b[0;31m \u001b[0mmain\u001b[0m\u001b[0;34m(\u001b[0m\u001b[0;34m)\u001b[0m\u001b[0;34m\u001b[0m\u001b[0;34m\u001b[0m\u001b[0m\n\u001b[0m",
      "\u001b[0;32m<ipython-input-786-f07cd84f9ecd>\u001b[0m in \u001b[0;36mmain\u001b[0;34m()\u001b[0m\n\u001b[1;32m     17\u001b[0m     \u001b[0;32mfor\u001b[0m \u001b[0midx\u001b[0m\u001b[0;34m,\u001b[0m\u001b[0mimage\u001b[0m \u001b[0;32min\u001b[0m \u001b[0menumerate\u001b[0m\u001b[0;34m(\u001b[0m\u001b[0mlistOfImgs\u001b[0m\u001b[0;34m[\u001b[0m\u001b[0;34m:\u001b[0m\u001b[0;34m]\u001b[0m\u001b[0;34m)\u001b[0m\u001b[0;34m:\u001b[0m\u001b[0;34m\u001b[0m\u001b[0;34m\u001b[0m\u001b[0m\n\u001b[1;32m     18\u001b[0m         \u001b[0mprint\u001b[0m\u001b[0;34m(\u001b[0m\u001b[0;34m\"\\nCalculating for image: \"\u001b[0m\u001b[0;34m,\u001b[0m\u001b[0midx\u001b[0m\u001b[0;34m+\u001b[0m\u001b[0;36m1\u001b[0m\u001b[0;34m)\u001b[0m\u001b[0;34m\u001b[0m\u001b[0;34m\u001b[0m\u001b[0m\n\u001b[0;32m---> 19\u001b[0;31m         \u001b[0mresult\u001b[0m\u001b[0;34m,\u001b[0m\u001b[0mprev_particle\u001b[0m\u001b[0;34m,\u001b[0m\u001b[0mselected_particles\u001b[0m \u001b[0;34m=\u001b[0m \u001b[0mimage_calculations\u001b[0m\u001b[0;34m(\u001b[0m\u001b[0mimage\u001b[0m\u001b[0;34m,\u001b[0m\u001b[0midx\u001b[0m\u001b[0;34m,\u001b[0m\u001b[0mprev_particle\u001b[0m\u001b[0;34m,\u001b[0m\u001b[0mselected_particles\u001b[0m\u001b[0;34m)\u001b[0m\u001b[0;34m\u001b[0m\u001b[0;34m\u001b[0m\u001b[0m\n\u001b[0m\u001b[1;32m     20\u001b[0m         \u001b[0mout\u001b[0m\u001b[0;34m.\u001b[0m\u001b[0mwrite\u001b[0m\u001b[0;34m(\u001b[0m\u001b[0mresult\u001b[0m\u001b[0;34m)\u001b[0m\u001b[0;34m\u001b[0m\u001b[0;34m\u001b[0m\u001b[0m\n\u001b[1;32m     21\u001b[0m \u001b[0;34m\u001b[0m\u001b[0m\n",
      "\u001b[0;32m<ipython-input-785-1199ccbf32f4>\u001b[0m in \u001b[0;36mimage_calculations\u001b[0;34m(image, idx, prev_particle, selected_particles)\u001b[0m\n\u001b[1;32m     17\u001b[0m     \u001b[0;31m# Calculating the particles for each row and storing the points to plot for left lane and right lane\u001b[0m\u001b[0;34m\u001b[0m\u001b[0;34m\u001b[0m\u001b[0;34m\u001b[0m\u001b[0m\n\u001b[1;32m     18\u001b[0m     \u001b[0;32mfor\u001b[0m \u001b[0mrow\u001b[0m \u001b[0;32min\u001b[0m \u001b[0mrange\u001b[0m\u001b[0;34m(\u001b[0m\u001b[0mstarting_row\u001b[0m\u001b[0;34m,\u001b[0m\u001b[0;36m0\u001b[0m\u001b[0;34m,\u001b[0m\u001b[0;34m-\u001b[0m\u001b[0mdelta\u001b[0m\u001b[0;34m)\u001b[0m\u001b[0;34m:\u001b[0m\u001b[0;34m\u001b[0m\u001b[0;34m\u001b[0m\u001b[0m\n\u001b[0;32m---> 19\u001b[0;31m         \u001b[0mprev_particle\u001b[0m\u001b[0;34m,\u001b[0m \u001b[0mselected_particles\u001b[0m \u001b[0;34m=\u001b[0m \u001b[0mparticle_filter\u001b[0m\u001b[0;34m(\u001b[0m\u001b[0mdst_tfm\u001b[0m\u001b[0;34m,\u001b[0m \u001b[0mrow\u001b[0m\u001b[0;34m,\u001b[0m \u001b[0mprev_particle\u001b[0m\u001b[0;34m,\u001b[0m \u001b[0mselected_particles\u001b[0m\u001b[0;34m)\u001b[0m\u001b[0;34m;\u001b[0m\u001b[0;34m\u001b[0m\u001b[0;34m\u001b[0m\u001b[0m\n\u001b[0m\u001b[1;32m     20\u001b[0m \u001b[0;34m\u001b[0m\u001b[0m\n\u001b[1;32m     21\u001b[0m         \u001b[0;31m# calculating the mean of the selected (winning) particles and setting left and right lane points\u001b[0m\u001b[0;34m\u001b[0m\u001b[0;34m\u001b[0m\u001b[0;34m\u001b[0m\u001b[0m\n",
      "\u001b[0;32m<ipython-input-783-e2db0ff5e001>\u001b[0m in \u001b[0;36mparticle_filter\u001b[0;34m(dst_tfm, row, prev_particle, selected_particles)\u001b[0m\n\u001b[1;32m     38\u001b[0m     \u001b[0mbefore_particle\u001b[0m \u001b[0;34m=\u001b[0m \u001b[0mtime\u001b[0m\u001b[0;34m.\u001b[0m\u001b[0mtime\u001b[0m\u001b[0;34m(\u001b[0m\u001b[0;34m)\u001b[0m\u001b[0;34m\u001b[0m\u001b[0;34m\u001b[0m\u001b[0m\n\u001b[1;32m     39\u001b[0m     \u001b[0;31m# generating random particles for this row\u001b[0m\u001b[0;34m\u001b[0m\u001b[0;34m\u001b[0m\u001b[0;34m\u001b[0m\u001b[0m\n\u001b[0;32m---> 40\u001b[0;31m     \u001b[0mparticles\u001b[0m \u001b[0;34m=\u001b[0m \u001b[0mgenerate_random_particles\u001b[0m\u001b[0;34m(\u001b[0m\u001b[0mlen\u001b[0m\u001b[0;34m(\u001b[0m\u001b[0mrow_data\u001b[0m\u001b[0;34m)\u001b[0m\u001b[0;34m,\u001b[0m \u001b[0mselected_particles\u001b[0m\u001b[0;34m)\u001b[0m \u001b[0;31m#IF BLANK\u001b[0m\u001b[0;34m\u001b[0m\u001b[0;34m\u001b[0m\u001b[0m\n\u001b[0m\u001b[1;32m     41\u001b[0m     \u001b[0mafter_particle\u001b[0m \u001b[0;34m=\u001b[0m \u001b[0mtime\u001b[0m\u001b[0;34m.\u001b[0m\u001b[0mtime\u001b[0m\u001b[0;34m(\u001b[0m\u001b[0;34m)\u001b[0m\u001b[0;34m\u001b[0m\u001b[0;34m\u001b[0m\u001b[0m\n\u001b[1;32m     42\u001b[0m \u001b[0;34m\u001b[0m\u001b[0m\n",
      "\u001b[0;32m<ipython-input-778-ade1c05cd031>\u001b[0m in \u001b[0;36mgenerate_random_particles\u001b[0;34m(row_length, selected_particles)\u001b[0m\n\u001b[1;32m     16\u001b[0m         \u001b[0;32mfor\u001b[0m \u001b[0mparticle\u001b[0m \u001b[0;32min\u001b[0m \u001b[0mselected_particles\u001b[0m\u001b[0;34m:\u001b[0m\u001b[0;34m\u001b[0m\u001b[0;34m\u001b[0m\u001b[0m\n\u001b[1;32m     17\u001b[0m             \u001b[0mL\u001b[0m \u001b[0;34m=\u001b[0m \u001b[0muniform\u001b[0m\u001b[0;34m(\u001b[0m\u001b[0mloc\u001b[0m\u001b[0;34m=\u001b[0m\u001b[0mparticle\u001b[0m\u001b[0;34m[\u001b[0m\u001b[0;36m0\u001b[0m\u001b[0;34m]\u001b[0m\u001b[0;34m-\u001b[0m\u001b[0;36m20\u001b[0m\u001b[0;34m,\u001b[0m \u001b[0mscale\u001b[0m\u001b[0;34m=\u001b[0m\u001b[0;36m40\u001b[0m\u001b[0;34m)\u001b[0m\u001b[0;34m.\u001b[0m\u001b[0mrvs\u001b[0m\u001b[0;34m(\u001b[0m\u001b[0mnum\u001b[0m\u001b[0;34m)\u001b[0m\u001b[0;34m\u001b[0m\u001b[0;34m\u001b[0m\u001b[0m\n\u001b[0;32m---> 18\u001b[0;31m             \u001b[0mR\u001b[0m \u001b[0;34m=\u001b[0m \u001b[0muniform\u001b[0m\u001b[0;34m(\u001b[0m\u001b[0mloc\u001b[0m\u001b[0;34m=\u001b[0m\u001b[0mparticle\u001b[0m\u001b[0;34m[\u001b[0m\u001b[0;36m1\u001b[0m\u001b[0;34m]\u001b[0m\u001b[0;34m-\u001b[0m\u001b[0;36m20\u001b[0m\u001b[0;34m,\u001b[0m \u001b[0mscale\u001b[0m\u001b[0;34m=\u001b[0m\u001b[0;36m40\u001b[0m\u001b[0;34m)\u001b[0m\u001b[0;34m.\u001b[0m\u001b[0mrvs\u001b[0m\u001b[0;34m(\u001b[0m\u001b[0mnum\u001b[0m\u001b[0;34m)\u001b[0m\u001b[0;34m\u001b[0m\u001b[0;34m\u001b[0m\u001b[0m\n\u001b[0m\u001b[1;32m     19\u001b[0m             \u001b[0mB\u001b[0m \u001b[0;34m=\u001b[0m \u001b[0muniform\u001b[0m\u001b[0;34m(\u001b[0m\u001b[0mloc\u001b[0m\u001b[0;34m=\u001b[0m\u001b[0mparticle\u001b[0m\u001b[0;34m[\u001b[0m\u001b[0;36m2\u001b[0m\u001b[0;34m]\u001b[0m\u001b[0;34m-\u001b[0m\u001b[0;36m0.5\u001b[0m\u001b[0;34m,\u001b[0m \u001b[0mscale\u001b[0m\u001b[0;34m=\u001b[0m\u001b[0;36m1\u001b[0m\u001b[0;34m)\u001b[0m\u001b[0;34m.\u001b[0m\u001b[0mrvs\u001b[0m\u001b[0;34m(\u001b[0m\u001b[0mnum\u001b[0m\u001b[0;34m)\u001b[0m\u001b[0;34m\u001b[0m\u001b[0;34m\u001b[0m\u001b[0m\n\u001b[1;32m     20\u001b[0m             \u001b[0mG\u001b[0m \u001b[0;34m=\u001b[0m \u001b[0muniform\u001b[0m\u001b[0;34m(\u001b[0m\u001b[0mloc\u001b[0m\u001b[0;34m=\u001b[0m\u001b[0mparticle\u001b[0m\u001b[0;34m[\u001b[0m\u001b[0;36m3\u001b[0m\u001b[0;34m]\u001b[0m\u001b[0;34m-\u001b[0m\u001b[0;36m0.5\u001b[0m\u001b[0;34m,\u001b[0m \u001b[0mscale\u001b[0m\u001b[0;34m=\u001b[0m\u001b[0;36m1\u001b[0m\u001b[0;34m)\u001b[0m\u001b[0;34m.\u001b[0m\u001b[0mrvs\u001b[0m\u001b[0;34m(\u001b[0m\u001b[0mnum\u001b[0m\u001b[0;34m)\u001b[0m\u001b[0;34m\u001b[0m\u001b[0;34m\u001b[0m\u001b[0m\n",
      "\u001b[0;32m~/opt/anaconda3/envs/CS682/lib/python3.7/site-packages/scipy/stats/_distn_infrastructure.py\u001b[0m in \u001b[0;36m__call__\u001b[0;34m(self, *args, **kwds)\u001b[0m\n\u001b[1;32m    769\u001b[0m \u001b[0;34m\u001b[0m\u001b[0m\n\u001b[1;32m    770\u001b[0m     \u001b[0;32mdef\u001b[0m \u001b[0m__call__\u001b[0m\u001b[0;34m(\u001b[0m\u001b[0mself\u001b[0m\u001b[0;34m,\u001b[0m \u001b[0;34m*\u001b[0m\u001b[0margs\u001b[0m\u001b[0;34m,\u001b[0m \u001b[0;34m**\u001b[0m\u001b[0mkwds\u001b[0m\u001b[0;34m)\u001b[0m\u001b[0;34m:\u001b[0m\u001b[0;34m\u001b[0m\u001b[0;34m\u001b[0m\u001b[0m\n\u001b[0;32m--> 771\u001b[0;31m         \u001b[0;32mreturn\u001b[0m \u001b[0mself\u001b[0m\u001b[0;34m.\u001b[0m\u001b[0mfreeze\u001b[0m\u001b[0;34m(\u001b[0m\u001b[0;34m*\u001b[0m\u001b[0margs\u001b[0m\u001b[0;34m,\u001b[0m \u001b[0;34m**\u001b[0m\u001b[0mkwds\u001b[0m\u001b[0;34m)\u001b[0m\u001b[0;34m\u001b[0m\u001b[0;34m\u001b[0m\u001b[0m\n\u001b[0m\u001b[1;32m    772\u001b[0m     \u001b[0m__call__\u001b[0m\u001b[0;34m.\u001b[0m\u001b[0m__doc__\u001b[0m \u001b[0;34m=\u001b[0m \u001b[0mfreeze\u001b[0m\u001b[0;34m.\u001b[0m\u001b[0m__doc__\u001b[0m\u001b[0;34m\u001b[0m\u001b[0;34m\u001b[0m\u001b[0m\n\u001b[1;32m    773\u001b[0m \u001b[0;34m\u001b[0m\u001b[0m\n",
      "\u001b[0;32m~/opt/anaconda3/envs/CS682/lib/python3.7/site-packages/scipy/stats/_distn_infrastructure.py\u001b[0m in \u001b[0;36mfreeze\u001b[0;34m(self, *args, **kwds)\u001b[0m\n\u001b[1;32m    766\u001b[0m \u001b[0;34m\u001b[0m\u001b[0m\n\u001b[1;32m    767\u001b[0m         \"\"\"\n\u001b[0;32m--> 768\u001b[0;31m         \u001b[0;32mreturn\u001b[0m \u001b[0mrv_frozen\u001b[0m\u001b[0;34m(\u001b[0m\u001b[0mself\u001b[0m\u001b[0;34m,\u001b[0m \u001b[0;34m*\u001b[0m\u001b[0margs\u001b[0m\u001b[0;34m,\u001b[0m \u001b[0;34m**\u001b[0m\u001b[0mkwds\u001b[0m\u001b[0;34m)\u001b[0m\u001b[0;34m\u001b[0m\u001b[0;34m\u001b[0m\u001b[0m\n\u001b[0m\u001b[1;32m    769\u001b[0m \u001b[0;34m\u001b[0m\u001b[0m\n\u001b[1;32m    770\u001b[0m     \u001b[0;32mdef\u001b[0m \u001b[0m__call__\u001b[0m\u001b[0;34m(\u001b[0m\u001b[0mself\u001b[0m\u001b[0;34m,\u001b[0m \u001b[0;34m*\u001b[0m\u001b[0margs\u001b[0m\u001b[0;34m,\u001b[0m \u001b[0;34m**\u001b[0m\u001b[0mkwds\u001b[0m\u001b[0;34m)\u001b[0m\u001b[0;34m:\u001b[0m\u001b[0;34m\u001b[0m\u001b[0;34m\u001b[0m\u001b[0m\n",
      "\u001b[0;32m~/opt/anaconda3/envs/CS682/lib/python3.7/site-packages/scipy/stats/_distn_infrastructure.py\u001b[0m in \u001b[0;36m__init__\u001b[0;34m(self, dist, *args, **kwds)\u001b[0m\n\u001b[1;32m    426\u001b[0m \u001b[0;34m\u001b[0m\u001b[0m\n\u001b[1;32m    427\u001b[0m         \u001b[0;31m# create a new instance\u001b[0m\u001b[0;34m\u001b[0m\u001b[0;34m\u001b[0m\u001b[0;34m\u001b[0m\u001b[0m\n\u001b[0;32m--> 428\u001b[0;31m         \u001b[0mself\u001b[0m\u001b[0;34m.\u001b[0m\u001b[0mdist\u001b[0m \u001b[0;34m=\u001b[0m \u001b[0mdist\u001b[0m\u001b[0;34m.\u001b[0m\u001b[0m__class__\u001b[0m\u001b[0;34m(\u001b[0m\u001b[0;34m**\u001b[0m\u001b[0mdist\u001b[0m\u001b[0;34m.\u001b[0m\u001b[0m_updated_ctor_param\u001b[0m\u001b[0;34m(\u001b[0m\u001b[0;34m)\u001b[0m\u001b[0;34m)\u001b[0m\u001b[0;34m\u001b[0m\u001b[0;34m\u001b[0m\u001b[0m\n\u001b[0m\u001b[1;32m    429\u001b[0m \u001b[0;34m\u001b[0m\u001b[0m\n\u001b[1;32m    430\u001b[0m         \u001b[0mshapes\u001b[0m\u001b[0;34m,\u001b[0m \u001b[0m_\u001b[0m\u001b[0;34m,\u001b[0m \u001b[0m_\u001b[0m \u001b[0;34m=\u001b[0m \u001b[0mself\u001b[0m\u001b[0;34m.\u001b[0m\u001b[0mdist\u001b[0m\u001b[0;34m.\u001b[0m\u001b[0m_parse_args\u001b[0m\u001b[0;34m(\u001b[0m\u001b[0;34m*\u001b[0m\u001b[0margs\u001b[0m\u001b[0;34m,\u001b[0m \u001b[0;34m**\u001b[0m\u001b[0mkwds\u001b[0m\u001b[0;34m)\u001b[0m\u001b[0;34m\u001b[0m\u001b[0;34m\u001b[0m\u001b[0m\n",
      "\u001b[0;32m~/opt/anaconda3/envs/CS682/lib/python3.7/site-packages/scipy/stats/_distn_infrastructure.py\u001b[0m in \u001b[0;36m__init__\u001b[0;34m(self, momtype, a, b, xtol, badvalue, name, longname, shapes, extradoc, seed)\u001b[0m\n\u001b[1;32m   1574\u001b[0m                  shapes=None, extradoc=None, seed=None):\n\u001b[1;32m   1575\u001b[0m \u001b[0;34m\u001b[0m\u001b[0m\n\u001b[0;32m-> 1576\u001b[0;31m         \u001b[0msuper\u001b[0m\u001b[0;34m(\u001b[0m\u001b[0mrv_continuous\u001b[0m\u001b[0;34m,\u001b[0m \u001b[0mself\u001b[0m\u001b[0;34m)\u001b[0m\u001b[0;34m.\u001b[0m\u001b[0m__init__\u001b[0m\u001b[0;34m(\u001b[0m\u001b[0mseed\u001b[0m\u001b[0;34m)\u001b[0m\u001b[0;34m\u001b[0m\u001b[0;34m\u001b[0m\u001b[0m\n\u001b[0m\u001b[1;32m   1577\u001b[0m \u001b[0;34m\u001b[0m\u001b[0m\n\u001b[1;32m   1578\u001b[0m         \u001b[0;31m# save the ctor parameters, cf generic freeze\u001b[0m\u001b[0;34m\u001b[0m\u001b[0;34m\u001b[0m\u001b[0;34m\u001b[0m\u001b[0m\n",
      "\u001b[0;32m~/opt/anaconda3/envs/CS682/lib/python3.7/site-packages/scipy/stats/_distn_infrastructure.py\u001b[0m in \u001b[0;36m__init__\u001b[0;34m(self, seed)\u001b[0m\n\u001b[1;32m    589\u001b[0m \u001b[0;34m\u001b[0m\u001b[0m\n\u001b[1;32m    590\u001b[0m         \u001b[0;31m# figure out if _stats signature has 'moments' keyword\u001b[0m\u001b[0;34m\u001b[0m\u001b[0;34m\u001b[0m\u001b[0;34m\u001b[0m\u001b[0m\n\u001b[0;32m--> 591\u001b[0;31m         \u001b[0msign\u001b[0m \u001b[0;34m=\u001b[0m \u001b[0m_getargspec\u001b[0m\u001b[0;34m(\u001b[0m\u001b[0mself\u001b[0m\u001b[0;34m.\u001b[0m\u001b[0m_stats\u001b[0m\u001b[0;34m)\u001b[0m\u001b[0;34m\u001b[0m\u001b[0;34m\u001b[0m\u001b[0m\n\u001b[0m\u001b[1;32m    592\u001b[0m         self._stats_has_moments = ((sign[2] is not None) or\n\u001b[1;32m    593\u001b[0m                                    ('moments' in sign[0]))\n",
      "\u001b[0;32m~/opt/anaconda3/envs/CS682/lib/python3.7/site-packages/scipy/_lib/_util.py\u001b[0m in \u001b[0;36mgetargspec_no_self\u001b[0;34m(func)\u001b[0m\n\u001b[1;32m    296\u001b[0m             \u001b[0mpython\u001b[0m \u001b[0;36m2.\u001b[0m\u001b[0mx\u001b[0m\u001b[0;34m,\u001b[0m \u001b[0;32mand\u001b[0m \u001b[0minspect\u001b[0m\u001b[0;34m.\u001b[0m\u001b[0msignature\u001b[0m\u001b[0;34m(\u001b[0m\u001b[0;34m)\u001b[0m \u001b[0munder\u001b[0m \u001b[0mpython\u001b[0m \u001b[0;36m3.\u001b[0m\u001b[0mx\u001b[0m\u001b[0;34m.\u001b[0m\u001b[0;34m\u001b[0m\u001b[0;34m\u001b[0m\u001b[0m\n\u001b[1;32m    297\u001b[0m         \"\"\"\n\u001b[0;32m--> 298\u001b[0;31m         \u001b[0msig\u001b[0m \u001b[0;34m=\u001b[0m \u001b[0minspect\u001b[0m\u001b[0;34m.\u001b[0m\u001b[0msignature\u001b[0m\u001b[0;34m(\u001b[0m\u001b[0mfunc\u001b[0m\u001b[0;34m)\u001b[0m\u001b[0;34m\u001b[0m\u001b[0;34m\u001b[0m\u001b[0m\n\u001b[0m\u001b[1;32m    299\u001b[0m         args = [\n\u001b[1;32m    300\u001b[0m             \u001b[0mp\u001b[0m\u001b[0;34m.\u001b[0m\u001b[0mname\u001b[0m \u001b[0;32mfor\u001b[0m \u001b[0mp\u001b[0m \u001b[0;32min\u001b[0m \u001b[0msig\u001b[0m\u001b[0;34m.\u001b[0m\u001b[0mparameters\u001b[0m\u001b[0;34m.\u001b[0m\u001b[0mvalues\u001b[0m\u001b[0;34m(\u001b[0m\u001b[0;34m)\u001b[0m\u001b[0;34m\u001b[0m\u001b[0;34m\u001b[0m\u001b[0m\n",
      "\u001b[0;32m~/opt/anaconda3/envs/CS682/lib/python3.7/inspect.py\u001b[0m in \u001b[0;36msignature\u001b[0;34m(obj, follow_wrapped)\u001b[0m\n\u001b[1;32m   3081\u001b[0m \u001b[0;32mdef\u001b[0m \u001b[0msignature\u001b[0m\u001b[0;34m(\u001b[0m\u001b[0mobj\u001b[0m\u001b[0;34m,\u001b[0m \u001b[0;34m*\u001b[0m\u001b[0;34m,\u001b[0m \u001b[0mfollow_wrapped\u001b[0m\u001b[0;34m=\u001b[0m\u001b[0;32mTrue\u001b[0m\u001b[0;34m)\u001b[0m\u001b[0;34m:\u001b[0m\u001b[0;34m\u001b[0m\u001b[0;34m\u001b[0m\u001b[0m\n\u001b[1;32m   3082\u001b[0m     \u001b[0;34m\"\"\"Get a signature object for the passed callable.\"\"\"\u001b[0m\u001b[0;34m\u001b[0m\u001b[0;34m\u001b[0m\u001b[0m\n\u001b[0;32m-> 3083\u001b[0;31m     \u001b[0;32mreturn\u001b[0m \u001b[0mSignature\u001b[0m\u001b[0;34m.\u001b[0m\u001b[0mfrom_callable\u001b[0m\u001b[0;34m(\u001b[0m\u001b[0mobj\u001b[0m\u001b[0;34m,\u001b[0m \u001b[0mfollow_wrapped\u001b[0m\u001b[0;34m=\u001b[0m\u001b[0mfollow_wrapped\u001b[0m\u001b[0;34m)\u001b[0m\u001b[0;34m\u001b[0m\u001b[0;34m\u001b[0m\u001b[0m\n\u001b[0m\u001b[1;32m   3084\u001b[0m \u001b[0;34m\u001b[0m\u001b[0m\n\u001b[1;32m   3085\u001b[0m \u001b[0;34m\u001b[0m\u001b[0m\n",
      "\u001b[0;32m~/opt/anaconda3/envs/CS682/lib/python3.7/inspect.py\u001b[0m in \u001b[0;36mfrom_callable\u001b[0;34m(cls, obj, follow_wrapped)\u001b[0m\n\u001b[1;32m   2831\u001b[0m         \u001b[0;34m\"\"\"Constructs Signature for the given callable object.\"\"\"\u001b[0m\u001b[0;34m\u001b[0m\u001b[0;34m\u001b[0m\u001b[0m\n\u001b[1;32m   2832\u001b[0m         return _signature_from_callable(obj, sigcls=cls,\n\u001b[0;32m-> 2833\u001b[0;31m                                         follow_wrapper_chains=follow_wrapped)\n\u001b[0m\u001b[1;32m   2834\u001b[0m \u001b[0;34m\u001b[0m\u001b[0m\n\u001b[1;32m   2835\u001b[0m     \u001b[0;34m@\u001b[0m\u001b[0mproperty\u001b[0m\u001b[0;34m\u001b[0m\u001b[0;34m\u001b[0m\u001b[0m\n",
      "\u001b[0;32m~/opt/anaconda3/envs/CS682/lib/python3.7/inspect.py\u001b[0m in \u001b[0;36m_signature_from_callable\u001b[0;34m(obj, follow_wrapper_chains, skip_bound_arg, sigcls)\u001b[0m\n\u001b[1;32m   2215\u001b[0m             \u001b[0mfollow_wrapper_chains\u001b[0m\u001b[0;34m=\u001b[0m\u001b[0mfollow_wrapper_chains\u001b[0m\u001b[0;34m,\u001b[0m\u001b[0;34m\u001b[0m\u001b[0;34m\u001b[0m\u001b[0m\n\u001b[1;32m   2216\u001b[0m             \u001b[0mskip_bound_arg\u001b[0m\u001b[0;34m=\u001b[0m\u001b[0mskip_bound_arg\u001b[0m\u001b[0;34m,\u001b[0m\u001b[0;34m\u001b[0m\u001b[0;34m\u001b[0m\u001b[0m\n\u001b[0;32m-> 2217\u001b[0;31m             sigcls=sigcls)\n\u001b[0m\u001b[1;32m   2218\u001b[0m \u001b[0;34m\u001b[0m\u001b[0m\n\u001b[1;32m   2219\u001b[0m         \u001b[0;32mif\u001b[0m \u001b[0mskip_bound_arg\u001b[0m\u001b[0;34m:\u001b[0m\u001b[0;34m\u001b[0m\u001b[0;34m\u001b[0m\u001b[0m\n",
      "\u001b[0;32m~/opt/anaconda3/envs/CS682/lib/python3.7/inspect.py\u001b[0m in \u001b[0;36m_signature_from_callable\u001b[0;34m(obj, follow_wrapper_chains, skip_bound_arg, sigcls)\u001b[0m\n\u001b[1;32m   2282\u001b[0m         \u001b[0;31m# If it's a pure Python function, or an object that is duck type\u001b[0m\u001b[0;34m\u001b[0m\u001b[0;34m\u001b[0m\u001b[0;34m\u001b[0m\u001b[0m\n\u001b[1;32m   2283\u001b[0m         \u001b[0;31m# of a Python function (Cython functions, for instance), then:\u001b[0m\u001b[0;34m\u001b[0m\u001b[0;34m\u001b[0m\u001b[0;34m\u001b[0m\u001b[0m\n\u001b[0;32m-> 2284\u001b[0;31m         \u001b[0;32mreturn\u001b[0m \u001b[0m_signature_from_function\u001b[0m\u001b[0;34m(\u001b[0m\u001b[0msigcls\u001b[0m\u001b[0;34m,\u001b[0m \u001b[0mobj\u001b[0m\u001b[0;34m)\u001b[0m\u001b[0;34m\u001b[0m\u001b[0;34m\u001b[0m\u001b[0m\n\u001b[0m\u001b[1;32m   2285\u001b[0m \u001b[0;34m\u001b[0m\u001b[0m\n\u001b[1;32m   2286\u001b[0m     \u001b[0;32mif\u001b[0m \u001b[0m_signature_is_builtin\u001b[0m\u001b[0;34m(\u001b[0m\u001b[0mobj\u001b[0m\u001b[0;34m)\u001b[0m\u001b[0;34m:\u001b[0m\u001b[0;34m\u001b[0m\u001b[0;34m\u001b[0m\u001b[0m\n",
      "\u001b[0;32m~/opt/anaconda3/envs/CS682/lib/python3.7/inspect.py\u001b[0m in \u001b[0;36m_signature_from_function\u001b[0;34m(cls, func)\u001b[0m\n\u001b[1;32m   2162\u001b[0m \u001b[0;34m\u001b[0m\u001b[0m\n\u001b[1;32m   2163\u001b[0m     \u001b[0;31m# *args\u001b[0m\u001b[0;34m\u001b[0m\u001b[0;34m\u001b[0m\u001b[0;34m\u001b[0m\u001b[0m\n\u001b[0;32m-> 2164\u001b[0;31m     \u001b[0;32mif\u001b[0m \u001b[0mfunc_code\u001b[0m\u001b[0;34m.\u001b[0m\u001b[0mco_flags\u001b[0m \u001b[0;34m&\u001b[0m \u001b[0mCO_VARARGS\u001b[0m\u001b[0;34m:\u001b[0m\u001b[0;34m\u001b[0m\u001b[0;34m\u001b[0m\u001b[0m\n\u001b[0m\u001b[1;32m   2165\u001b[0m         \u001b[0mname\u001b[0m \u001b[0;34m=\u001b[0m \u001b[0marg_names\u001b[0m\u001b[0;34m[\u001b[0m\u001b[0mpos_count\u001b[0m \u001b[0;34m+\u001b[0m \u001b[0mkeyword_only_count\u001b[0m\u001b[0;34m]\u001b[0m\u001b[0;34m\u001b[0m\u001b[0;34m\u001b[0m\u001b[0m\n\u001b[1;32m   2166\u001b[0m         \u001b[0mannotation\u001b[0m \u001b[0;34m=\u001b[0m \u001b[0mannotations\u001b[0m\u001b[0;34m.\u001b[0m\u001b[0mget\u001b[0m\u001b[0;34m(\u001b[0m\u001b[0mname\u001b[0m\u001b[0;34m,\u001b[0m \u001b[0m_empty\u001b[0m\u001b[0;34m)\u001b[0m\u001b[0;34m\u001b[0m\u001b[0;34m\u001b[0m\u001b[0m\n",
      "\u001b[0;31mKeyboardInterrupt\u001b[0m: "
     ]
    }
   ],
   "source": [
    "main()"
   ]
  },
  {
   "cell_type": "code",
   "execution_count": null,
   "metadata": {},
   "outputs": [],
   "source": []
  }
 ],
 "metadata": {
  "kernelspec": {
   "display_name": "Python 3",
   "language": "python",
   "name": "python3"
  },
  "language_info": {
   "codemirror_mode": {
    "name": "ipython",
    "version": 3
   },
   "file_extension": ".py",
   "mimetype": "text/x-python",
   "name": "python",
   "nbconvert_exporter": "python",
   "pygments_lexer": "ipython3",
   "version": "3.7.6"
  }
 },
 "nbformat": 4,
 "nbformat_minor": 4
}
